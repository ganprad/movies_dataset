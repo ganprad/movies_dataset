{
 "cells": [
  {
   "cell_type": "code",
   "execution_count": null,
   "metadata": {
    "collapsed": false
   },
   "outputs": [],
   "source": [
    "import pandas as pd\n",
    "import numpy as np\n",
    "import matplotlib.pylab as plt\n",
    "import seaborn as sns\n",
    "import re\n",
    "from scipy.stats import pearsonr\n",
    "from scipy.stats import linregress\n",
    "\n",
    "%matplotlib inline"
   ]
  },
  {
   "cell_type": "code",
   "execution_count": null,
   "metadata": {
    "collapsed": true
   },
   "outputs": [],
   "source": [
    "df = pd.read_csv('../data/fandango/fandango_score_comparison.csv')"
   ]
  },
  {
   "cell_type": "code",
   "execution_count": null,
   "metadata": {
    "collapsed": false
   },
   "outputs": [],
   "source": [
    "df.sample(3)\n",
    "df.columns.tolist()"
   ]
  },
  {
   "cell_type": "code",
   "execution_count": null,
   "metadata": {
    "collapsed": false
   },
   "outputs": [],
   "source": [
    "RT_user_norm = (df['RottenTomatoes_User']/100)*5\n",
    "RT_user_norm_round = RT_user_norm.round()\n",
    "RT_user_norm_round.sample(3)"
   ]
  },
  {
   "cell_type": "code",
   "execution_count": null,
   "metadata": {
    "collapsed": false
   },
   "outputs": [],
   "source": [
    "#Filtering out column names with 'norm' in name and 'round' NOT in name.\n",
    "\n",
    "norms = [i for i in df.columns.tolist() if (re.search('[no]r[m]',i) and not (re.search('[ro]un[d]',i)))]\n",
    "print(norms)\n",
    "\n",
    "#Creating a new dataframe with norms\n",
    "\n",
    "df_norm = df[norms]\n",
    "df_norm.sample(2)"
   ]
  },
  {
   "cell_type": "code",
   "execution_count": null,
   "metadata": {
    "collapsed": false
   },
   "outputs": [],
   "source": [
    "g = sns.PairGrid(df_norm);\n",
    "g.map(plt.scatter);"
   ]
  },
  {
   "cell_type": "code",
   "execution_count": null,
   "metadata": {
    "collapsed": false
   },
   "outputs": [],
   "source": [
    "rounds = [i for i in df.columns.tolist() if (re.search('[ro]un[d]',i))]\n",
    "\n",
    "\n",
    "#Appending Fandango comparisons\n",
    "rounds.append('Fandango_Stars')\n",
    "print(rounds)"
   ]
  },
  {
   "cell_type": "code",
   "execution_count": null,
   "metadata": {
    "collapsed": false
   },
   "outputs": [],
   "source": [
    "g = sns.PairGrid(df[rounds]);\n",
    "g.map(plt.scatter);"
   ]
  },
  {
   "cell_type": "code",
   "execution_count": null,
   "metadata": {
    "collapsed": false
   },
   "outputs": [],
   "source": [
    "#Subtracting the rounded Metacritic norms column  from Fandango_Stars column\n",
    "#Then the absolute values of the resulting column\n",
    "\n",
    "df['fm_diff'] = df['Fandango_Stars'] - df['Metacritic_norm_round']\n",
    "df['fm_diff'] = df['fm_diff'].abs()\n",
    "df['fm_diff'].hist(bins=10)\n",
    "plt.show()"
   ]
  },
  {
   "cell_type": "code",
   "execution_count": null,
   "metadata": {
    "collapsed": false
   },
   "outputs": [],
   "source": [
    "#Sorting values by fm_diff column and printing out to top 5 movies with greatest fm_diff values\n",
    "\n",
    "df.sort_values(by='fm_diff',ascending=False)[:5]"
   ]
  },
  {
   "cell_type": "code",
   "execution_count": null,
   "metadata": {
    "collapsed": false
   },
   "outputs": [],
   "source": [
    "np.correlate(df.Fandango_Stars,df.Metacritic_norm_round)"
   ]
  },
  {
   "cell_type": "code",
   "execution_count": null,
   "metadata": {
    "collapsed": false
   },
   "outputs": [],
   "source": [
    "plt.hist(np.convolve(df.Fandango_Stars,df.Metacritic_norm_round),bins=40);"
   ]
  },
  {
   "cell_type": "code",
   "execution_count": null,
   "metadata": {
    "collapsed": false
   },
   "outputs": [],
   "source": [
    "df.Fandango_Stars.size, df.Metacritic_norm_round.size"
   ]
  },
  {
   "cell_type": "code",
   "execution_count": null,
   "metadata": {
    "collapsed": false
   },
   "outputs": [],
   "source": [
    "#Computing pearsonr\n",
    "\n",
    "pearsonr(df.Fandango_Stars,df.Metacritic_norm_round)"
   ]
  },
  {
   "cell_type": "markdown",
   "metadata": {},
   "source": [
    "# Notes:\n",
    "\n",
    "        - There is poor r-correlation between Fandango stars and normalized and rounded Metacritic values.\n",
    "        - This shows that movies that may have high Fandango Star ratings may have low or high Metacritic ratings.\n",
    "        - r-values indicate a low linear predicability between these data points.\n"
   ]
  },
  {
   "cell_type": "code",
   "execution_count": null,
   "metadata": {
    "collapsed": false
   },
   "outputs": [],
   "source": [
    "np.cov(df.Fandango_Stars,df.Metacritic_norm_round)"
   ]
  },
  {
   "cell_type": "code",
   "execution_count": null,
   "metadata": {
    "collapsed": false
   },
   "outputs": [],
   "source": [
    "np.var(df.Fandango_Stars)*np.var(df.Metacritic_norm_round)"
   ]
  },
  {
   "cell_type": "code",
   "execution_count": null,
   "metadata": {
    "collapsed": false
   },
   "outputs": [],
   "source": [
    "np.cov(df.Fandango_Stars,df.Metacritic_norm_round)*(_)"
   ]
  },
  {
   "cell_type": "code",
   "execution_count": 1,
   "metadata": {
    "collapsed": false
   },
   "outputs": [
    {
     "ename": "NameError",
     "evalue": "name 'linregress' is not defined",
     "output_type": "error",
     "traceback": [
      "\u001b[1;31m---------------------------------------------------------------------------\u001b[0m",
      "\u001b[1;31mNameError\u001b[0m                                 Traceback (most recent call last)",
      "\u001b[1;32m<ipython-input-1-5d109fed091b>\u001b[0m in \u001b[0;36m<module>\u001b[1;34m()\u001b[0m\n\u001b[0;32m      1\u001b[0m \u001b[1;31m#Performing regression\u001b[0m\u001b[1;33m\u001b[0m\u001b[1;33m\u001b[0m\u001b[0m\n\u001b[0;32m      2\u001b[0m \u001b[1;33m\u001b[0m\u001b[0m\n\u001b[1;32m----> 3\u001b[1;33m \u001b[0mreg\u001b[0m \u001b[1;33m=\u001b[0m \u001b[0mlinregress\u001b[0m\u001b[1;33m(\u001b[0m\u001b[0mdf\u001b[0m\u001b[1;33m.\u001b[0m\u001b[0mMetacritic_norm_round\u001b[0m\u001b[1;33m,\u001b[0m\u001b[0mdf\u001b[0m\u001b[1;33m.\u001b[0m\u001b[0mFandango_Stars\u001b[0m\u001b[1;33m)\u001b[0m\u001b[1;33m\u001b[0m\u001b[0m\n\u001b[0m",
      "\u001b[1;31mNameError\u001b[0m: name 'linregress' is not defined"
     ]
    }
   ],
   "source": [
    "#Performing regression \n",
    "\n",
    "reg = linregress(df.Metacritic_norm_round,df.Fandango_Stars)"
   ]
  },
  {
   "cell_type": "code",
   "execution_count": null,
   "metadata": {
    "collapsed": false
   },
   "outputs": [],
   "source": [
    "ypred = reg.slope*(df.Metacritic_norm_round) + reg.intercept\n",
    "plt.figure(figsize=(12,8))\n",
    "plt.xlim((0,5))\n",
    "plt.ylim((2,5))\n",
    "plt.xlabel('Metacritic_norm_round')\n",
    "plt.ylabel('Fandango Stars')\n",
    "plt.plot(df.Metacritic_norm_round,ypred,color='r')\n",
    "plt.legend()\n",
    "plt.scatter(df.Metacritic_norm_round,df.Fandango_Stars,color='b')\n",
    "plt.legend()\n",
    "plt.axvline(3.0,alpha=0.3,dash_joinstyle='miter',linestyle='dashed',label='3.0 Metacritic rating')\n",
    "plt.text(2.9,3.0,'3.0 Metacritic rating',rotation=90)\n",
    "plt.axvline(4.0,alpha=0.3,dash_joinstyle='miter',linestyle='dashed', label = '4.0 Metacritic rating')\n",
    "plt.text(3.9,3.0,'4.0 Metacritic rating',rotation=90)\n",
    "plt.legend(loc='upper left')\n",
    "plt.show()"
   ]
  },
  {
   "cell_type": "code",
   "execution_count": null,
   "metadata": {
    "collapsed": false
   },
   "outputs": [],
   "source": [
    "rating = 3.0\n",
    "\n",
    "Fandango_3pred = reg.slope*3.0 + reg.intercept \n",
    "print(Fandango_3pred)"
   ]
  },
  {
   "cell_type": "code",
   "execution_count": null,
   "metadata": {
    "collapsed": true
   },
   "outputs": [],
   "source": []
  }
 ],
 "metadata": {
  "kernelspec": {
   "display_name": "Python 2",
   "language": "python",
   "name": "python2"
  },
  "language_info": {
   "codemirror_mode": {
    "name": "ipython",
    "version": 2
   },
   "file_extension": ".py",
   "mimetype": "text/x-python",
   "name": "python",
   "nbconvert_exporter": "python",
   "pygments_lexer": "ipython2",
   "version": "2.7.11"
  }
 },
 "nbformat": 4,
 "nbformat_minor": 0
}
